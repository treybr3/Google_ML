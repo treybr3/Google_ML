{
 "cells": [
  {
   "cell_type": "code",
   "execution_count": 5,
   "metadata": {},
   "outputs": [
    {
     "name": "stdout",
     "output_type": "stream",
     "text": [
      "Target values:  [0 0 0 2 2 0 2 2 2 1 0 2 1 1 2 2 2 0 2 2 2 2 0 0 0 1 1 0 0 2 0 1 1 1 0 2 2\n",
      " 1 0 1 2 0 1 0 0]\n",
      "models predicted values:  [0 0 0 2 2 0 2 1 2 1 0 2 2 1 1 2 2 0 2 2 2 2 0 0 0 1 1 0 0 2 0 1 1 1 0 2 2\n",
      " 1 0 1 2 0 1 0 0]\n",
      "0.9333333333333333\n"
     ]
    }
   ],
   "source": [
    "# K-nearest neighbor is algorithm that classifies based on \n",
    "#      logic of classifying testing data based on its distance from\n",
    "#        from previously clustered training data (which is done via .fit() method).\n",
    "# K = # of neighbors to consider (how many training points to consider for euclidean distance)\n",
    "# knowing the label that corresponds to the closest distance will give the classification\n",
    "\n",
    "import random\n",
    "from scipy.spatial import distance\n",
    "\n",
    "def euc(a,b):\n",
    "    # distance between train and test data \n",
    "    return distance.euclidean(a,b)\n",
    "\n",
    "\n",
    "class KNN():\n",
    "    def fit(self,X_train,y_train):\n",
    "        self.X_train = X_train\n",
    "        self.y_train = y_train\n",
    "        \n",
    "    def predict():\n",
    "        predictions = []\n",
    "        for row in X_test:\n",
    "            label = self.closest(row)\n",
    "            predictions.append(label)\n",
    "        return predictions\n",
    "    \n",
    "    def closest(self,row):\n",
    "        best_distance = euc(row,X_train[0])\n",
    "        best_index = 0 \n",
    "        for i in range(1,len(self.X_train)):\n",
    "            dist = euc(row,X_train[i])\n",
    "            if dist < best_distance:\n",
    "                dist = best_distance\n",
    "                best_index = i\n",
    "        return self.y_train[best_index]\n",
    "        \n",
    "\n",
    "from sklearn.datasets import load_iris\n",
    "\n",
    "iris = load_iris()\n",
    "X = iris.data\n",
    "y = iris.target\n",
    "\n",
    "\n",
    "\n",
    "classifier = KNN()\n",
    "from sklearn.model_selection import train_test_split\n",
    "X_train, X_test, y_train, y_test = train_test_split(X,y,test_size=.3)\n",
    "\n",
    "from sklearn import neighbors as nb\n",
    "clf = nb.KNeighborsClassifier()\n",
    "clf.fit(X_train,y_train)\n",
    "\n",
    "print(\"Target values: \" , y_test)\n",
    "y_predict = clf.predict(X_test)\n",
    "print(\"models predicted values: \" , y_predict)\n",
    "\n",
    "from sklearn import metrics\n",
    "print(metrics.accuracy_score(y_test,y_predict))\n",
    "\n",
    "\n",
    "# pros: simple\n",
    "# cons: hard to relate the features to predictions and how each feature is important\n",
    "#       computation time, iteration\n"
   ]
  },
  {
   "cell_type": "code",
   "execution_count": null,
   "metadata": {},
   "outputs": [],
   "source": []
  }
 ],
 "metadata": {
  "kernelspec": {
   "display_name": "Python 3",
   "language": "python",
   "name": "python3"
  },
  "language_info": {
   "codemirror_mode": {
    "name": "ipython",
    "version": 3
   },
   "file_extension": ".py",
   "mimetype": "text/x-python",
   "name": "python",
   "nbconvert_exporter": "python",
   "pygments_lexer": "ipython3",
   "version": "3.6.8"
  }
 },
 "nbformat": 4,
 "nbformat_minor": 2
}
